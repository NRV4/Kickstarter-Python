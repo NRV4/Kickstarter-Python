{
 "cells": [
  {
   "cell_type": "code",
   "execution_count": 1,
   "metadata": {},
   "outputs": [
    {
     "data": {
      "text/html": [
       "<div>\n",
       "<style>\n",
       "    .dataframe thead tr:only-child th {\n",
       "        text-align: right;\n",
       "    }\n",
       "\n",
       "    .dataframe thead th {\n",
       "        text-align: left;\n",
       "    }\n",
       "\n",
       "    .dataframe tbody tr th {\n",
       "        vertical-align: top;\n",
       "    }\n",
       "</style>\n",
       "<table border=\"1\" class=\"dataframe\">\n",
       "  <thead>\n",
       "    <tr style=\"text-align: right;\">\n",
       "      <th></th>\n",
       "      <th>ID</th>\n",
       "      <th>name</th>\n",
       "      <th>category</th>\n",
       "      <th>main_category</th>\n",
       "      <th>currency</th>\n",
       "      <th>deadline</th>\n",
       "      <th>goal</th>\n",
       "      <th>launched</th>\n",
       "      <th>pledged</th>\n",
       "      <th>state</th>\n",
       "      <th>backers</th>\n",
       "      <th>country</th>\n",
       "      <th>usd pledged</th>\n",
       "      <th>usd_pledged_real</th>\n",
       "      <th>usd_goal_real</th>\n",
       "    </tr>\n",
       "  </thead>\n",
       "  <tbody>\n",
       "    <tr>\n",
       "      <th>0</th>\n",
       "      <td>1000002330</td>\n",
       "      <td>The Songs of Adelaide &amp; Abullah</td>\n",
       "      <td>Poetry</td>\n",
       "      <td>Publishing</td>\n",
       "      <td>GBP</td>\n",
       "      <td>2015-10-09</td>\n",
       "      <td>1000.0</td>\n",
       "      <td>2015-08-11 12:12:28</td>\n",
       "      <td>0.0</td>\n",
       "      <td>failed</td>\n",
       "      <td>0</td>\n",
       "      <td>GB</td>\n",
       "      <td>0.0</td>\n",
       "      <td>0.0</td>\n",
       "      <td>1533.95</td>\n",
       "    </tr>\n",
       "    <tr>\n",
       "      <th>1</th>\n",
       "      <td>1000003930</td>\n",
       "      <td>Greeting From Earth: ZGAC Arts Capsule For ET</td>\n",
       "      <td>Narrative Film</td>\n",
       "      <td>Film &amp; Video</td>\n",
       "      <td>USD</td>\n",
       "      <td>2017-11-01</td>\n",
       "      <td>30000.0</td>\n",
       "      <td>2017-09-02 04:43:57</td>\n",
       "      <td>2421.0</td>\n",
       "      <td>failed</td>\n",
       "      <td>15</td>\n",
       "      <td>US</td>\n",
       "      <td>100.0</td>\n",
       "      <td>2421.0</td>\n",
       "      <td>30000.00</td>\n",
       "    </tr>\n",
       "    <tr>\n",
       "      <th>2</th>\n",
       "      <td>1000004038</td>\n",
       "      <td>Where is Hank?</td>\n",
       "      <td>Narrative Film</td>\n",
       "      <td>Film &amp; Video</td>\n",
       "      <td>USD</td>\n",
       "      <td>2013-02-26</td>\n",
       "      <td>45000.0</td>\n",
       "      <td>2013-01-12 00:20:50</td>\n",
       "      <td>220.0</td>\n",
       "      <td>failed</td>\n",
       "      <td>3</td>\n",
       "      <td>US</td>\n",
       "      <td>220.0</td>\n",
       "      <td>220.0</td>\n",
       "      <td>45000.00</td>\n",
       "    </tr>\n",
       "    <tr>\n",
       "      <th>3</th>\n",
       "      <td>1000007540</td>\n",
       "      <td>ToshiCapital Rekordz Needs Help to Complete Album</td>\n",
       "      <td>Music</td>\n",
       "      <td>Music</td>\n",
       "      <td>USD</td>\n",
       "      <td>2012-04-16</td>\n",
       "      <td>5000.0</td>\n",
       "      <td>2012-03-17 03:24:11</td>\n",
       "      <td>1.0</td>\n",
       "      <td>failed</td>\n",
       "      <td>1</td>\n",
       "      <td>US</td>\n",
       "      <td>1.0</td>\n",
       "      <td>1.0</td>\n",
       "      <td>5000.00</td>\n",
       "    </tr>\n",
       "    <tr>\n",
       "      <th>4</th>\n",
       "      <td>1000011046</td>\n",
       "      <td>Community Film Project: The Art of Neighborhoo...</td>\n",
       "      <td>Film &amp; Video</td>\n",
       "      <td>Film &amp; Video</td>\n",
       "      <td>USD</td>\n",
       "      <td>2015-08-29</td>\n",
       "      <td>19500.0</td>\n",
       "      <td>2015-07-04 08:35:03</td>\n",
       "      <td>1283.0</td>\n",
       "      <td>canceled</td>\n",
       "      <td>14</td>\n",
       "      <td>US</td>\n",
       "      <td>1283.0</td>\n",
       "      <td>1283.0</td>\n",
       "      <td>19500.00</td>\n",
       "    </tr>\n",
       "  </tbody>\n",
       "</table>\n",
       "</div>"
      ],
      "text/plain": [
       "           ID                                               name  \\\n",
       "0  1000002330                    The Songs of Adelaide & Abullah   \n",
       "1  1000003930      Greeting From Earth: ZGAC Arts Capsule For ET   \n",
       "2  1000004038                                     Where is Hank?   \n",
       "3  1000007540  ToshiCapital Rekordz Needs Help to Complete Album   \n",
       "4  1000011046  Community Film Project: The Art of Neighborhoo...   \n",
       "\n",
       "         category main_category currency   deadline     goal  \\\n",
       "0          Poetry    Publishing      GBP 2015-10-09   1000.0   \n",
       "1  Narrative Film  Film & Video      USD 2017-11-01  30000.0   \n",
       "2  Narrative Film  Film & Video      USD 2013-02-26  45000.0   \n",
       "3           Music         Music      USD 2012-04-16   5000.0   \n",
       "4    Film & Video  Film & Video      USD 2015-08-29  19500.0   \n",
       "\n",
       "             launched  pledged     state  backers country  usd pledged  \\\n",
       "0 2015-08-11 12:12:28      0.0    failed        0      GB          0.0   \n",
       "1 2017-09-02 04:43:57   2421.0    failed       15      US        100.0   \n",
       "2 2013-01-12 00:20:50    220.0    failed        3      US        220.0   \n",
       "3 2012-03-17 03:24:11      1.0    failed        1      US          1.0   \n",
       "4 2015-07-04 08:35:03   1283.0  canceled       14      US       1283.0   \n",
       "\n",
       "   usd_pledged_real  usd_goal_real  \n",
       "0               0.0        1533.95  \n",
       "1            2421.0       30000.00  \n",
       "2             220.0       45000.00  \n",
       "3               1.0        5000.00  \n",
       "4            1283.0       19500.00  "
      ]
     },
     "execution_count": 1,
     "metadata": {},
     "output_type": "execute_result"
    }
   ],
   "source": [
    "import pandas as pd\n",
    "Location = \"datasets/kickstarter.xls\"\n",
    "df = pd.read_excel(Location)\n",
    "df.head()"
   ]
  },
  {
   "cell_type": "code",
   "execution_count": 59,
   "metadata": {},
   "outputs": [
    {
     "data": {
      "text/html": [
       "<div>\n",
       "<style>\n",
       "    .dataframe thead tr:only-child th {\n",
       "        text-align: right;\n",
       "    }\n",
       "\n",
       "    .dataframe thead th {\n",
       "        text-align: left;\n",
       "    }\n",
       "\n",
       "    .dataframe tbody tr th {\n",
       "        vertical-align: top;\n",
       "    }\n",
       "</style>\n",
       "<table border=\"1\" class=\"dataframe\">\n",
       "  <thead>\n",
       "    <tr style=\"text-align: right;\">\n",
       "      <th></th>\n",
       "      <th>ID</th>\n",
       "      <th>name</th>\n",
       "      <th>category</th>\n",
       "      <th>main_category</th>\n",
       "      <th>currency</th>\n",
       "      <th>deadline</th>\n",
       "      <th>goal</th>\n",
       "      <th>launched</th>\n",
       "      <th>pledged</th>\n",
       "      <th>state</th>\n",
       "      <th>backers</th>\n",
       "      <th>country</th>\n",
       "      <th>usd pledged</th>\n",
       "      <th>usd_pledged_real</th>\n",
       "      <th>usd_goal_real</th>\n",
       "      <th>state2</th>\n",
       "    </tr>\n",
       "  </thead>\n",
       "  <tbody>\n",
       "    <tr>\n",
       "      <th>65525</th>\n",
       "      <td>1333291362</td>\n",
       "      <td>Bronze snapping turtles that fit in your pants.</td>\n",
       "      <td>Sculpture</td>\n",
       "      <td>Art</td>\n",
       "      <td>USD</td>\n",
       "      <td>2015-03-24</td>\n",
       "      <td>450.0</td>\n",
       "      <td>2015-02-22 21:01:30</td>\n",
       "      <td>3391.00</td>\n",
       "      <td>successful</td>\n",
       "      <td>32</td>\n",
       "      <td>US</td>\n",
       "      <td>3391.00</td>\n",
       "      <td>3391.00</td>\n",
       "      <td>450.0</td>\n",
       "      <td>1</td>\n",
       "    </tr>\n",
       "    <tr>\n",
       "      <th>65526</th>\n",
       "      <td>1333299368</td>\n",
       "      <td>The Portrait Box</td>\n",
       "      <td>Photography</td>\n",
       "      <td>Photography</td>\n",
       "      <td>USD</td>\n",
       "      <td>2010-05-11</td>\n",
       "      <td>915.0</td>\n",
       "      <td>2010-04-06 17:17:51</td>\n",
       "      <td>221.00</td>\n",
       "      <td>failed</td>\n",
       "      <td>8</td>\n",
       "      <td>US</td>\n",
       "      <td>221.00</td>\n",
       "      <td>221.00</td>\n",
       "      <td>915.0</td>\n",
       "      <td>0</td>\n",
       "    </tr>\n",
       "    <tr>\n",
       "      <th>65527</th>\n",
       "      <td>1333299449</td>\n",
       "      <td>Cycle of the Werewolf- Bernie Wrightson Art Po...</td>\n",
       "      <td>Illustration</td>\n",
       "      <td>Art</td>\n",
       "      <td>USD</td>\n",
       "      <td>2016-11-11</td>\n",
       "      <td>12000.0</td>\n",
       "      <td>2016-10-12 20:44:48</td>\n",
       "      <td>78965.00</td>\n",
       "      <td>successful</td>\n",
       "      <td>483</td>\n",
       "      <td>US</td>\n",
       "      <td>27280.00</td>\n",
       "      <td>78965.00</td>\n",
       "      <td>12000.0</td>\n",
       "      <td>1</td>\n",
       "    </tr>\n",
       "    <tr>\n",
       "      <th>65528</th>\n",
       "      <td>1333312538</td>\n",
       "      <td>PlayTrees - Natural Wood Modular Toy Play Envi...</td>\n",
       "      <td>Product Design</td>\n",
       "      <td>Design</td>\n",
       "      <td>USD</td>\n",
       "      <td>2013-12-12</td>\n",
       "      <td>17280.0</td>\n",
       "      <td>2013-11-12 20:17:58</td>\n",
       "      <td>480.00</td>\n",
       "      <td>failed</td>\n",
       "      <td>6</td>\n",
       "      <td>US</td>\n",
       "      <td>480.00</td>\n",
       "      <td>480.00</td>\n",
       "      <td>17280.0</td>\n",
       "      <td>0</td>\n",
       "    </tr>\n",
       "    <tr>\n",
       "      <th>65529</th>\n",
       "      <td>1333318423</td>\n",
       "      <td>PAUL BANKS &amp; THE CAROUSELS' New Record</td>\n",
       "      <td>Indie Rock</td>\n",
       "      <td>Music</td>\n",
       "      <td>USD</td>\n",
       "      <td>2012-04-07</td>\n",
       "      <td>8000.0</td>\n",
       "      <td>2012-03-06 19:42:03</td>\n",
       "      <td>9691.55</td>\n",
       "      <td>successful</td>\n",
       "      <td>115</td>\n",
       "      <td>US</td>\n",
       "      <td>9691.55</td>\n",
       "      <td>9691.55</td>\n",
       "      <td>8000.0</td>\n",
       "      <td>1</td>\n",
       "    </tr>\n",
       "    <tr>\n",
       "      <th>65530</th>\n",
       "      <td>1333318527</td>\n",
       "      <td>MessageReader</td>\n",
       "      <td>Apps</td>\n",
       "      <td>Technology</td>\n",
       "      <td>USD</td>\n",
       "      <td>2016-08-04</td>\n",
       "      <td>5000.0</td>\n",
       "      <td>2016-06-20 23:28:58</td>\n",
       "      <td>0.00</td>\n",
       "      <td>failed</td>\n",
       "      <td>0</td>\n",
       "      <td>US</td>\n",
       "      <td>0.00</td>\n",
       "      <td>0.00</td>\n",
       "      <td>5000.0</td>\n",
       "      <td>0</td>\n",
       "    </tr>\n",
       "    <tr>\n",
       "      <th>65531</th>\n",
       "      <td>1333322677</td>\n",
       "      <td>Man vs Moto 2</td>\n",
       "      <td>Webseries</td>\n",
       "      <td>Film &amp; Video</td>\n",
       "      <td>USD</td>\n",
       "      <td>2014-05-29</td>\n",
       "      <td>60000.0</td>\n",
       "      <td>2014-05-12 15:06:17</td>\n",
       "      <td>16115.00</td>\n",
       "      <td>failed</td>\n",
       "      <td>65</td>\n",
       "      <td>US</td>\n",
       "      <td>16115.00</td>\n",
       "      <td>16115.00</td>\n",
       "      <td>60000.0</td>\n",
       "      <td>0</td>\n",
       "    </tr>\n",
       "    <tr>\n",
       "      <th>65532</th>\n",
       "      <td>1333323946</td>\n",
       "      <td>Kingston Uni- BA (hons) Photography Degree Show</td>\n",
       "      <td>Photography</td>\n",
       "      <td>Photography</td>\n",
       "      <td>GBP</td>\n",
       "      <td>2014-05-08</td>\n",
       "      <td>400.0</td>\n",
       "      <td>2014-04-17 23:42:29</td>\n",
       "      <td>612.60</td>\n",
       "      <td>successful</td>\n",
       "      <td>43</td>\n",
       "      <td>GB</td>\n",
       "      <td>1024.52</td>\n",
       "      <td>1033.00</td>\n",
       "      <td>674.5</td>\n",
       "      <td>1</td>\n",
       "    </tr>\n",
       "    <tr>\n",
       "      <th>65533</th>\n",
       "      <td>1333326933</td>\n",
       "      <td>My Sweet Lady: 4 Issues</td>\n",
       "      <td>Comics</td>\n",
       "      <td>Comics</td>\n",
       "      <td>USD</td>\n",
       "      <td>2013-08-31</td>\n",
       "      <td>3500.0</td>\n",
       "      <td>2013-08-01 02:12:19</td>\n",
       "      <td>251.00</td>\n",
       "      <td>failed</td>\n",
       "      <td>11</td>\n",
       "      <td>US</td>\n",
       "      <td>251.00</td>\n",
       "      <td>251.00</td>\n",
       "      <td>3500.0</td>\n",
       "      <td>0</td>\n",
       "    </tr>\n",
       "    <tr>\n",
       "      <th>65534</th>\n",
       "      <td>1333329068</td>\n",
       "      <td>Dimensional Playing Cards</td>\n",
       "      <td>Playing Cards</td>\n",
       "      <td>Games</td>\n",
       "      <td>USD</td>\n",
       "      <td>2015-06-29</td>\n",
       "      <td>8000.0</td>\n",
       "      <td>2015-05-20 19:18:51</td>\n",
       "      <td>2791.00</td>\n",
       "      <td>failed</td>\n",
       "      <td>144</td>\n",
       "      <td>US</td>\n",
       "      <td>2791.00</td>\n",
       "      <td>2791.00</td>\n",
       "      <td>8000.0</td>\n",
       "      <td>0</td>\n",
       "    </tr>\n",
       "  </tbody>\n",
       "</table>\n",
       "</div>"
      ],
      "text/plain": [
       "               ID                                               name  \\\n",
       "65525  1333291362    Bronze snapping turtles that fit in your pants.   \n",
       "65526  1333299368                                   The Portrait Box   \n",
       "65527  1333299449  Cycle of the Werewolf- Bernie Wrightson Art Po...   \n",
       "65528  1333312538  PlayTrees - Natural Wood Modular Toy Play Envi...   \n",
       "65529  1333318423             PAUL BANKS & THE CAROUSELS' New Record   \n",
       "65530  1333318527                                      MessageReader   \n",
       "65531  1333322677                                      Man vs Moto 2   \n",
       "65532  1333323946    Kingston Uni- BA (hons) Photography Degree Show   \n",
       "65533  1333326933                            My Sweet Lady: 4 Issues   \n",
       "65534  1333329068                          Dimensional Playing Cards   \n",
       "\n",
       "             category main_category currency   deadline     goal  \\\n",
       "65525       Sculpture           Art      USD 2015-03-24    450.0   \n",
       "65526     Photography   Photography      USD 2010-05-11    915.0   \n",
       "65527    Illustration           Art      USD 2016-11-11  12000.0   \n",
       "65528  Product Design        Design      USD 2013-12-12  17280.0   \n",
       "65529      Indie Rock         Music      USD 2012-04-07   8000.0   \n",
       "65530            Apps    Technology      USD 2016-08-04   5000.0   \n",
       "65531       Webseries  Film & Video      USD 2014-05-29  60000.0   \n",
       "65532     Photography   Photography      GBP 2014-05-08    400.0   \n",
       "65533          Comics        Comics      USD 2013-08-31   3500.0   \n",
       "65534   Playing Cards         Games      USD 2015-06-29   8000.0   \n",
       "\n",
       "                 launched   pledged       state  backers country  usd pledged  \\\n",
       "65525 2015-02-22 21:01:30   3391.00  successful       32      US      3391.00   \n",
       "65526 2010-04-06 17:17:51    221.00      failed        8      US       221.00   \n",
       "65527 2016-10-12 20:44:48  78965.00  successful      483      US     27280.00   \n",
       "65528 2013-11-12 20:17:58    480.00      failed        6      US       480.00   \n",
       "65529 2012-03-06 19:42:03   9691.55  successful      115      US      9691.55   \n",
       "65530 2016-06-20 23:28:58      0.00      failed        0      US         0.00   \n",
       "65531 2014-05-12 15:06:17  16115.00      failed       65      US     16115.00   \n",
       "65532 2014-04-17 23:42:29    612.60  successful       43      GB      1024.52   \n",
       "65533 2013-08-01 02:12:19    251.00      failed       11      US       251.00   \n",
       "65534 2015-05-20 19:18:51   2791.00      failed      144      US      2791.00   \n",
       "\n",
       "       usd_pledged_real  usd_goal_real  state2  \n",
       "65525           3391.00          450.0       1  \n",
       "65526            221.00          915.0       0  \n",
       "65527          78965.00        12000.0       1  \n",
       "65528            480.00        17280.0       0  \n",
       "65529           9691.55         8000.0       1  \n",
       "65530              0.00         5000.0       0  \n",
       "65531          16115.00        60000.0       0  \n",
       "65532           1033.00          674.5       1  \n",
       "65533            251.00         3500.0       0  \n",
       "65534           2791.00         8000.0       0  "
      ]
     },
     "execution_count": 59,
     "metadata": {},
     "output_type": "execute_result"
    }
   ],
   "source": [
    "import numpy as np\n",
    "df['state2'] = np.where(df['state']=='successful', 1, 0)\n",
    "df.tail(10)"
   ]
  },
  {
   "cell_type": "code",
   "execution_count": 60,
   "metadata": {},
   "outputs": [
    {
     "data": {
      "text/plain": [
       "ID                           int64\n",
       "name                        object\n",
       "category                    object\n",
       "main_category               object\n",
       "currency                    object\n",
       "deadline            datetime64[ns]\n",
       "goal                       float64\n",
       "launched            datetime64[ns]\n",
       "pledged                    float64\n",
       "state                       object\n",
       "backers                      int64\n",
       "country                     object\n",
       "usd pledged                float64\n",
       "usd_pledged_real           float64\n",
       "usd_goal_real              float64\n",
       "state2                       int64\n",
       "dtype: object"
      ]
     },
     "execution_count": 60,
     "metadata": {},
     "output_type": "execute_result"
    }
   ],
   "source": [
    "df.dtypes"
   ]
  },
  {
   "cell_type": "code",
   "execution_count": 3,
   "metadata": {},
   "outputs": [
    {
     "data": {
      "text/plain": [
       "10626"
      ]
     },
     "execution_count": 3,
     "metadata": {},
     "output_type": "execute_result"
    }
   ],
   "source": [
    "#(df[\"state\"]==\"successful\") & (df[\"goal\"] >= 5000)\n",
    "#df[(df[\"state\"]==\"successful\") & (df[\"goal\"] >= 5000)]\n",
    "len(df[(df[\"state\"]==\"successful\") & (df[\"goal\"] >= 5000)])\n",
    "#df[df[\"state\"]==\"successful\"]\n",
    "#len(df[df[\"state\"]==\"successful\"])\n"
   ]
  },
  {
   "cell_type": "code",
   "execution_count": 4,
   "metadata": {},
   "outputs": [
    {
     "data": {
      "text/plain": [
       "37879"
      ]
     },
     "execution_count": 4,
     "metadata": {},
     "output_type": "execute_result"
    }
   ],
   "source": [
    "len(df[df[\"goal\"] >= 5000])"
   ]
  },
  {
   "cell_type": "code",
   "execution_count": 5,
   "metadata": {},
   "outputs": [
    {
     "data": {
      "text/plain": [
       "12778"
      ]
     },
     "execution_count": 5,
     "metadata": {},
     "output_type": "execute_result"
    }
   ],
   "source": [
    "len(df[(df[\"state\"]==\"successful\") & (df[\"goal\"] < 5000)])"
   ]
  },
  {
   "cell_type": "code",
   "execution_count": 6,
   "metadata": {},
   "outputs": [
    {
     "data": {
      "text/plain": [
       "0.46203355510558286"
      ]
     },
     "execution_count": 6,
     "metadata": {},
     "output_type": "execute_result"
    }
   ],
   "source": [
    "#success|goal<5000\n",
    "(len(df[(df[\"state\"]==\"successful\") & (df[\"goal\"] < 5000)]))/(len(df[df[\"goal\"] < 5000]))"
   ]
  },
  {
   "cell_type": "code",
   "execution_count": 7,
   "metadata": {},
   "outputs": [
    {
     "data": {
      "text/plain": [
       "0.28052482906095727"
      ]
     },
     "execution_count": 7,
     "metadata": {},
     "output_type": "execute_result"
    }
   ],
   "source": [
    "#success|goal>=5000\n",
    "(len(df[(df[\"state\"]==\"successful\") & (df[\"goal\"] >= 5000)]))/(len(df[df[\"goal\"] >= 5000]))"
   ]
  },
  {
   "cell_type": "code",
   "execution_count": 8,
   "metadata": {},
   "outputs": [
    {
     "data": {
      "text/html": [
       "<div>\n",
       "<style>\n",
       "    .dataframe thead tr:only-child th {\n",
       "        text-align: right;\n",
       "    }\n",
       "\n",
       "    .dataframe thead th {\n",
       "        text-align: left;\n",
       "    }\n",
       "\n",
       "    .dataframe tbody tr th {\n",
       "        vertical-align: top;\n",
       "    }\n",
       "</style>\n",
       "<table border=\"1\" class=\"dataframe\">\n",
       "  <thead>\n",
       "    <tr style=\"text-align: right;\">\n",
       "      <th></th>\n",
       "      <th>ID</th>\n",
       "      <th>goal</th>\n",
       "      <th>pledged</th>\n",
       "      <th>backers</th>\n",
       "      <th>usd pledged</th>\n",
       "      <th>usd_pledged_real</th>\n",
       "      <th>usd_goal_real</th>\n",
       "    </tr>\n",
       "  </thead>\n",
       "  <tbody>\n",
       "    <tr>\n",
       "      <th>ID</th>\n",
       "      <td>1.000000</td>\n",
       "      <td>0.006231</td>\n",
       "      <td>0.002373</td>\n",
       "      <td>-0.000576</td>\n",
       "      <td>-0.000168</td>\n",
       "      <td>0.000465</td>\n",
       "      <td>0.005885</td>\n",
       "    </tr>\n",
       "    <tr>\n",
       "      <th>goal</th>\n",
       "      <td>0.006231</td>\n",
       "      <td>1.000000</td>\n",
       "      <td>0.007684</td>\n",
       "      <td>0.003353</td>\n",
       "      <td>0.005853</td>\n",
       "      <td>0.005704</td>\n",
       "      <td>0.953202</td>\n",
       "    </tr>\n",
       "    <tr>\n",
       "      <th>pledged</th>\n",
       "      <td>0.002373</td>\n",
       "      <td>0.007684</td>\n",
       "      <td>1.000000</td>\n",
       "      <td>0.707058</td>\n",
       "      <td>0.836125</td>\n",
       "      <td>0.940433</td>\n",
       "      <td>0.004865</td>\n",
       "    </tr>\n",
       "    <tr>\n",
       "      <th>backers</th>\n",
       "      <td>-0.000576</td>\n",
       "      <td>0.003353</td>\n",
       "      <td>0.707058</td>\n",
       "      <td>1.000000</td>\n",
       "      <td>0.701312</td>\n",
       "      <td>0.765924</td>\n",
       "      <td>0.003445</td>\n",
       "    </tr>\n",
       "    <tr>\n",
       "      <th>usd pledged</th>\n",
       "      <td>-0.000168</td>\n",
       "      <td>0.005853</td>\n",
       "      <td>0.836125</td>\n",
       "      <td>0.701312</td>\n",
       "      <td>1.000000</td>\n",
       "      <td>0.897024</td>\n",
       "      <td>0.005595</td>\n",
       "    </tr>\n",
       "    <tr>\n",
       "      <th>usd_pledged_real</th>\n",
       "      <td>0.000465</td>\n",
       "      <td>0.005704</td>\n",
       "      <td>0.940433</td>\n",
       "      <td>0.765924</td>\n",
       "      <td>0.897024</td>\n",
       "      <td>1.000000</td>\n",
       "      <td>0.005367</td>\n",
       "    </tr>\n",
       "    <tr>\n",
       "      <th>usd_goal_real</th>\n",
       "      <td>0.005885</td>\n",
       "      <td>0.953202</td>\n",
       "      <td>0.004865</td>\n",
       "      <td>0.003445</td>\n",
       "      <td>0.005595</td>\n",
       "      <td>0.005367</td>\n",
       "      <td>1.000000</td>\n",
       "    </tr>\n",
       "  </tbody>\n",
       "</table>\n",
       "</div>"
      ],
      "text/plain": [
       "                        ID      goal   pledged   backers  usd pledged  \\\n",
       "ID                1.000000  0.006231  0.002373 -0.000576    -0.000168   \n",
       "goal              0.006231  1.000000  0.007684  0.003353     0.005853   \n",
       "pledged           0.002373  0.007684  1.000000  0.707058     0.836125   \n",
       "backers          -0.000576  0.003353  0.707058  1.000000     0.701312   \n",
       "usd pledged      -0.000168  0.005853  0.836125  0.701312     1.000000   \n",
       "usd_pledged_real  0.000465  0.005704  0.940433  0.765924     0.897024   \n",
       "usd_goal_real     0.005885  0.953202  0.004865  0.003445     0.005595   \n",
       "\n",
       "                  usd_pledged_real  usd_goal_real  \n",
       "ID                        0.000465       0.005885  \n",
       "goal                      0.005704       0.953202  \n",
       "pledged                   0.940433       0.004865  \n",
       "backers                   0.765924       0.003445  \n",
       "usd pledged               0.897024       0.005595  \n",
       "usd_pledged_real          1.000000       0.005367  \n",
       "usd_goal_real             0.005367       1.000000  "
      ]
     },
     "execution_count": 8,
     "metadata": {},
     "output_type": "execute_result"
    }
   ],
   "source": [
    "df.corr()"
   ]
  },
  {
   "cell_type": "code",
   "execution_count": 14,
   "metadata": {},
   "outputs": [
    {
     "data": {
      "text/plain": [
       "ID                  1.060538e+09\n",
       "goal                4.439256e+04\n",
       "pledged             9.871143e+03\n",
       "backers             1.047593e+02\n",
       "usd pledged         7.153750e+03\n",
       "usd_pledged_real    9.220195e+03\n",
       "usd_goal_real       4.174910e+04\n",
       "dtype: float64"
      ]
     },
     "execution_count": 14,
     "metadata": {},
     "output_type": "execute_result"
    }
   ],
   "source": [
    "df.mean()"
   ]
  },
  {
   "cell_type": "code",
   "execution_count": 9,
   "metadata": {},
   "outputs": [
    {
     "data": {
      "text/plain": [
       "23056.311134421485"
      ]
     },
     "execution_count": 9,
     "metadata": {},
     "output_type": "execute_result"
    }
   ],
   "source": [
    "df.loc[df[\"state\"]=='successful']['usd_pledged_real'].mean()"
   ]
  },
  {
   "cell_type": "code",
   "execution_count": 10,
   "metadata": {},
   "outputs": [
    {
     "data": {
      "text/plain": [
       "failed        34159\n",
       "successful    23404\n",
       "canceled       6594\n",
       "undefined       589\n",
       "live            470\n",
       "suspended       319\n",
       "Name: state, dtype: int64"
      ]
     },
     "execution_count": 10,
     "metadata": {},
     "output_type": "execute_result"
    }
   ],
   "source": [
    "pd.value_counts(df['state'])"
   ]
  },
  {
   "cell_type": "code",
   "execution_count": 61,
   "metadata": {},
   "outputs": [
    {
     "data": {
      "text/plain": [
       "0    42131\n",
       "1    23404\n",
       "Name: state2, dtype: int64"
      ]
     },
     "execution_count": 61,
     "metadata": {},
     "output_type": "execute_result"
    }
   ],
   "source": [
    "pd.value_counts(df['state2'])"
   ]
  },
  {
   "cell_type": "code",
   "execution_count": 11,
   "metadata": {},
   "outputs": [
    {
     "data": {
      "text/plain": [
       "state\n",
       "canceled       6594\n",
       "failed        34159\n",
       "live            470\n",
       "successful    23404\n",
       "suspended       319\n",
       "undefined       589\n",
       "Name: ID, dtype: int64"
      ]
     },
     "execution_count": 11,
     "metadata": {},
     "output_type": "execute_result"
    }
   ],
   "source": [
    "df.groupby(\"state\")['ID'].count()"
   ]
  },
  {
   "cell_type": "code",
   "execution_count": 12,
   "metadata": {},
   "outputs": [
    {
     "data": {
      "text/plain": [
       "state\n",
       "canceled       2138.689995\n",
       "failed         1303.536003\n",
       "live           6604.669638\n",
       "successful    23056.311134\n",
       "suspended      4839.477680\n",
       "undefined      2304.889406\n",
       "Name: usd_pledged_real, dtype: float64"
      ]
     },
     "execution_count": 12,
     "metadata": {},
     "output_type": "execute_result"
    }
   ],
   "source": [
    "df.groupby(\"state\")[\"usd_pledged_real\"].mean()"
   ]
  },
  {
   "cell_type": "code",
   "execution_count": 13,
   "metadata": {},
   "outputs": [
    {
     "data": {
      "text/plain": [
       "state\n",
       "canceled       52120.449554\n",
       "failed         59952.495165\n",
       "live          234794.766106\n",
       "successful      9523.169711\n",
       "suspended      27598.391473\n",
       "undefined       4058.304244\n",
       "Name: usd_goal_real, dtype: float64"
      ]
     },
     "execution_count": 13,
     "metadata": {},
     "output_type": "execute_result"
    }
   ],
   "source": [
    "df.groupby(\"state\")[\"usd_goal_real\"].mean()"
   ]
  },
  {
   "cell_type": "code",
   "execution_count": 43,
   "metadata": {},
   "outputs": [
    {
     "data": {
      "text/plain": [
       "state\n",
       "canceled      10000.00\n",
       "failed         7500.00\n",
       "live           6068.48\n",
       "successful     3850.00\n",
       "suspended      5000.00\n",
       "undefined      3520.00\n",
       "Name: usd_goal_real, dtype: float64"
      ]
     },
     "execution_count": 43,
     "metadata": {},
     "output_type": "execute_result"
    }
   ],
   "source": [
    "df.groupby(\"state\")[\"usd_goal_real\"].median()"
   ]
  },
  {
   "cell_type": "code",
   "execution_count": 68,
   "metadata": {},
   "outputs": [
    {
     "data": {
      "text/plain": [
       "state\n",
       "canceled      3200.0000\n",
       "failed        2500.0000\n",
       "live          1976.1425\n",
       "successful    1321.8775\n",
       "suspended     1000.0000\n",
       "undefined     2175.6500\n",
       "Name: usd_goal_real, dtype: float64"
      ]
     },
     "execution_count": 68,
     "metadata": {},
     "output_type": "execute_result"
    }
   ],
   "source": [
    "df.groupby(\"state\")[\"usd_goal_real\"].quantile(.25)"
   ]
  },
  {
   "cell_type": "code",
   "execution_count": 69,
   "metadata": {},
   "outputs": [
    {
     "data": {
      "text/plain": [
       "state\n",
       "canceled      30000.000\n",
       "failed        20000.000\n",
       "live          18875.000\n",
       "successful    10000.000\n",
       "suspended     16718.215\n",
       "undefined      5000.000\n",
       "Name: usd_goal_real, dtype: float64"
      ]
     },
     "execution_count": 69,
     "metadata": {},
     "output_type": "execute_result"
    }
   ],
   "source": [
    "df.groupby(\"state\")[\"usd_goal_real\"].quantile(.75)"
   ]
  },
  {
   "cell_type": "code",
   "execution_count": 45,
   "metadata": {},
   "outputs": [
    {
     "data": {
      "text/plain": [
       "41749.10442938886"
      ]
     },
     "execution_count": 45,
     "metadata": {},
     "output_type": "execute_result"
    }
   ],
   "source": [
    "df['usd_goal_real'].mean()"
   ]
  },
  {
   "cell_type": "code",
   "execution_count": 46,
   "metadata": {},
   "outputs": [
    {
     "data": {
      "text/plain": [
       "5500.0"
      ]
     },
     "execution_count": 46,
     "metadata": {},
     "output_type": "execute_result"
    }
   ],
   "source": [
    "df['usd_goal_real'].median()"
   ]
  },
  {
   "cell_type": "code",
   "execution_count": 66,
   "metadata": {},
   "outputs": [
    {
     "data": {
      "text/plain": [
       "2000.0"
      ]
     },
     "execution_count": 66,
     "metadata": {},
     "output_type": "execute_result"
    }
   ],
   "source": [
    "df['usd_goal_real'].quantile(.25)"
   ]
  },
  {
   "cell_type": "code",
   "execution_count": 67,
   "metadata": {},
   "outputs": [
    {
     "data": {
      "text/plain": [
       "15376.689999999999"
      ]
     },
     "execution_count": 67,
     "metadata": {},
     "output_type": "execute_result"
    }
   ],
   "source": [
    "df['usd_goal_real'].quantile(.75)"
   ]
  },
  {
   "cell_type": "code",
   "execution_count": 47,
   "metadata": {},
   "outputs": [
    {
     "name": "stdout",
     "output_type": "stream",
     "text": [
      "2000.0 15376.689999999999 13376.689999999999 20065.034999999996 35441.72499999999 -18065.034999999996\n"
     ]
    }
   ],
   "source": [
    "q1 = df['usd_goal_real'].quantile(.25)\n",
    "q3 = df['usd_goal_real'].quantile(.75)\n",
    "\n",
    "iqr = q3-q1\n",
    "\n",
    "toprange = q3 + iqr * 1.5\n",
    "botrange = q1 - iqr * 1.5\n",
    "print(q1, q3, iqr, iqr*1.5, toprange, botrange)\n",
    "#copydf = df\n",
    "#copydf = copydf.drop(copydf[copydf['Net Worth'] > toprange].index)\n",
    "#copydf = copydf.drop(copydf[copydf['Net Worth'] < botrange].index)\n",
    "#copydf"
   ]
  },
  {
   "cell_type": "code",
   "execution_count": 48,
   "metadata": {},
   "outputs": [
    {
     "data": {
      "text/plain": [
       "state\n",
       "canceled      4.492836e+05\n",
       "failed        1.462167e+06\n",
       "live          4.566184e+06\n",
       "successful    2.516803e+04\n",
       "suspended     1.421673e+05\n",
       "undefined     2.446035e+03\n",
       "Name: usd_goal_real, dtype: float64"
      ]
     },
     "execution_count": 48,
     "metadata": {},
     "output_type": "execute_result"
    }
   ],
   "source": [
    "df.groupby(\"state\")[\"usd_goal_real\"].std()"
   ]
  },
  {
   "cell_type": "code",
   "execution_count": null,
   "metadata": {},
   "outputs": [],
   "source": [
    "#df = df.sort_values(by=[''state'', 'age'], ascending=[True, True])\n",
    "#df.head()"
   ]
  },
  {
   "cell_type": "code",
   "execution_count": 86,
   "metadata": {},
   "outputs": [
    {
     "data": {
      "text/plain": [
       "0.35712214847028306"
      ]
     },
     "execution_count": 86,
     "metadata": {},
     "output_type": "execute_result"
    }
   ],
   "source": [
    "(len(df[(df[\"state\"]==\"successful\")]))/(len(df[\"state\"]))"
   ]
  },
  {
   "cell_type": "code",
   "execution_count": 157,
   "metadata": {},
   "outputs": [
    {
     "data": {
      "text/plain": [
       "0.49493791786055397"
      ]
     },
     "execution_count": 157,
     "metadata": {},
     "output_type": "execute_result"
    }
   ],
   "source": [
    "#Given your goal was between 0 and 1000, what is the probability you were successful\n",
    "(len(df[(df[\"state\"]==\"successful\") & ((df[\"usd_goal_real\"] <= 1000) & (df[\"usd_goal_real\"] >= 0))]))/(len(df[(df[\"usd_goal_real\"] <= 1000)&(df[\"usd_goal_real\"] >= 0)]))"
   ]
  },
  {
   "cell_type": "code",
   "execution_count": 158,
   "metadata": {},
   "outputs": [
    {
     "data": {
      "text/plain": [
       "0.44500428816466553"
      ]
     },
     "execution_count": 158,
     "metadata": {},
     "output_type": "execute_result"
    }
   ],
   "source": [
    "(len(df[(df[\"state\"]==\"successful\") & ((df[\"usd_goal_real\"] <= 2500) & (df[\"usd_goal_real\"] > 1000))]))/(len(df[(df[\"usd_goal_real\"] <= 2500)&(df[\"usd_goal_real\"] > 1000)]))"
   ]
  },
  {
   "cell_type": "code",
   "execution_count": 151,
   "metadata": {},
   "outputs": [
    {
     "data": {
      "text/plain": [
       "0.3989773907485819"
      ]
     },
     "execution_count": 151,
     "metadata": {},
     "output_type": "execute_result"
    }
   ],
   "source": [
    "(len(df[(df[\"state\"]==\"successful\") & ((df[\"usd_goal_real\"] <= 5000) & (df[\"usd_goal_real\"] > 2500))]))/(len(df[(df[\"usd_goal_real\"] <= 5000)&(df[\"usd_goal_real\"] > 2500)]))"
   ]
  },
  {
   "cell_type": "code",
   "execution_count": 152,
   "metadata": {},
   "outputs": [
    {
     "data": {
      "text/plain": [
       "0.3641135303265941"
      ]
     },
     "execution_count": 152,
     "metadata": {},
     "output_type": "execute_result"
    }
   ],
   "source": [
    "(len(df[(df[\"state\"]==\"successful\") & ((df[\"usd_goal_real\"] <= 7500) & (df[\"usd_goal_real\"] > 5000))]))/(len(df[(df[\"usd_goal_real\"] <= 7500)&(df[\"usd_goal_real\"] > 5000)]))"
   ]
  },
  {
   "cell_type": "code",
   "execution_count": 153,
   "metadata": {},
   "outputs": [
    {
     "data": {
      "text/plain": [
       "0.34017952228814846"
      ]
     },
     "execution_count": 153,
     "metadata": {},
     "output_type": "execute_result"
    }
   ],
   "source": [
    "(len(df[(df[\"state\"]==\"successful\") & ((df[\"usd_goal_real\"] <= 10000) & (df[\"usd_goal_real\"] > 7500))]))/(len(df[(df[\"usd_goal_real\"] <= 10000)&(df[\"usd_goal_real\"] > 7500)]))"
   ]
  },
  {
   "cell_type": "code",
   "execution_count": 160,
   "metadata": {},
   "outputs": [
    {
     "data": {
      "text/plain": [
       "0.49493791786055397"
      ]
     },
     "execution_count": 160,
     "metadata": {},
     "output_type": "execute_result"
    }
   ],
   "source": [
    "#Given your goal was between 0-1000, what is probability you were successful\n",
    "(len(df[(df[\"state\"]==\"successful\") & ((df[\"usd_goal_real\"] <= 1000) & (df[\"usd_goal_real\"] > 0))]))/(len(df[(df[\"usd_goal_real\"] <= 1000)&(df[\"usd_goal_real\"] > 0)]))"
   ]
  },
  {
   "cell_type": "code",
   "execution_count": 159,
   "metadata": {},
   "outputs": [
    {
     "data": {
      "text/plain": [
       "0.44335447934395794"
      ]
     },
     "execution_count": 159,
     "metadata": {},
     "output_type": "execute_result"
    }
   ],
   "source": [
    "#Given your goal was between 0-5000, what is probability you were successful\n",
    "(len(df[(df[\"state\"]==\"successful\") & ((df[\"usd_goal_real\"] <= 5000) & (df[\"usd_goal_real\"] > 0))]))/(len(df[(df[\"usd_goal_real\"] <= 5000)&(df[\"usd_goal_real\"] > 0)]))"
   ]
  },
  {
   "cell_type": "code",
   "execution_count": 65,
   "metadata": {},
   "outputs": [
    {
     "data": {
      "text/plain": [
       "0.4186954941860465"
      ]
     },
     "execution_count": 65,
     "metadata": {},
     "output_type": "execute_result"
    }
   ],
   "source": [
    "(len(df[(df[\"state\"]==\"successful\") & ((df[\"usd_goal_real\"] <= 10000) & (df[\"usd_goal_real\"] > 0))]))/(len(df[(df[\"usd_goal_real\"] <= 10000)&(df[\"usd_goal_real\"] > 0)]))"
   ]
  },
  {
   "cell_type": "code",
   "execution_count": 69,
   "metadata": {},
   "outputs": [
    {
     "data": {
      "text/plain": [
       "0.3108948047378914"
      ]
     },
     "execution_count": 69,
     "metadata": {},
     "output_type": "execute_result"
    }
   ],
   "source": [
    "(len(df[(df[\"state\"]==\"successful\") & ((df[\"usd_goal_real\"] <= 20000) & (df[\"usd_goal_real\"] > 10000))]))/(len(df[(df[\"usd_goal_real\"] <= 20000)&(df[\"usd_goal_real\"] > 10000)]))"
   ]
  },
  {
   "cell_type": "code",
   "execution_count": 156,
   "metadata": {},
   "outputs": [
    {
     "data": {
      "text/plain": [
       "0.24025974025974026"
      ]
     },
     "execution_count": 156,
     "metadata": {},
     "output_type": "execute_result"
    }
   ],
   "source": [
    "(len(df[(df[\"state\"]==\"successful\") & ((df[\"usd_goal_real\"] <= 30000) & (df[\"usd_goal_real\"] > 20000))]))/(len(df[(df[\"usd_goal_real\"] <= 30000)&(df[\"usd_goal_real\"] > 20000)]))"
   ]
  },
  {
   "cell_type": "code",
   "execution_count": 126,
   "metadata": {},
   "outputs": [
    {
     "data": {
      "text/plain": [
       "0.8213980516151085"
      ]
     },
     "execution_count": 126,
     "metadata": {},
     "output_type": "execute_result"
    }
   ],
   "source": [
    "#Given you were successful, what was the probability of your goal being greater/equal to X\n",
    "(len(df[(df[\"state\"]==\"successful\") & (df[\"usd_goal_real\"] >= 1000)]))/(len(df[(df[\"state\"]==\"successful\")]))"
   ]
  },
  {
   "cell_type": "code",
   "execution_count": 127,
   "metadata": {},
   "outputs": [
    {
     "data": {
      "text/plain": [
       "0.4489830798154162"
      ]
     },
     "execution_count": 127,
     "metadata": {},
     "output_type": "execute_result"
    }
   ],
   "source": [
    "(len(df[(df[\"state\"]==\"successful\") & (df[\"usd_goal_real\"] >= 5000)]))/(len(df[(df[\"state\"]==\"successful\")]))"
   ]
  },
  {
   "cell_type": "code",
   "execution_count": 71,
   "metadata": {},
   "outputs": [
    {
     "data": {
      "text/plain": [
       "0.26132285079473594"
      ]
     },
     "execution_count": 71,
     "metadata": {},
     "output_type": "execute_result"
    }
   ],
   "source": [
    "(len(df[(df[\"state\"]==\"successful\") & (df[\"usd_goal_real\"] >= 10000)]))/(len(df[(df[\"state\"]==\"successful\")]))"
   ]
  },
  {
   "cell_type": "code",
   "execution_count": 121,
   "metadata": {},
   "outputs": [
    {
     "data": {
      "text/plain": [
       "0.12087677320116219"
      ]
     },
     "execution_count": 121,
     "metadata": {},
     "output_type": "execute_result"
    }
   ],
   "source": [
    "(len(df[(df[\"state\"]==\"successful\") & (df[\"usd_goal_real\"] >= 20000)]))/(len(df[(df[\"state\"]==\"successful\")]))"
   ]
  },
  {
   "cell_type": "code",
   "execution_count": 136,
   "metadata": {},
   "outputs": [
    {
     "data": {
      "text/plain": [
       "0.7386771492052641"
      ]
     },
     "execution_count": 136,
     "metadata": {},
     "output_type": "execute_result"
    }
   ],
   "source": [
    "#Given you were successful, what is the probability that your goal was between 0 and 10000\n",
    "(len(df[(df[\"state\"]==\"successful\") & ((df[\"usd_goal_real\"] >=0) & (df[\"usd_goal_real\"] < 10000))]))/(len(df[(df[\"state\"]==\"successful\")]))"
   ]
  },
  {
   "cell_type": "code",
   "execution_count": 137,
   "metadata": {},
   "outputs": [
    {
     "data": {
      "text/plain": [
       "0.5510169201845838"
      ]
     },
     "execution_count": 137,
     "metadata": {},
     "output_type": "execute_result"
    }
   ],
   "source": [
    "#Given you were successful, what is the probability that your goal was between 0 and 5000\n",
    "(len(df[(df[\"state\"]==\"successful\") & ((df[\"usd_goal_real\"] >=0) & (df[\"usd_goal_real\"] < 5000))]))/(len(df[(df[\"state\"]==\"successful\")]))"
   ]
  },
  {
   "cell_type": "code",
   "execution_count": 161,
   "metadata": {},
   "outputs": [
    {
     "data": {
      "text/plain": [
       "0.49982908904460777"
      ]
     },
     "execution_count": 161,
     "metadata": {},
     "output_type": "execute_result"
    }
   ],
   "source": [
    "#Median\n",
    "#Given you were successful, what is the probability that your goal was between 0 and 3850\n",
    "(len(df[(df[\"state\"]==\"successful\") & ((df[\"usd_goal_real\"] >=0) & (df[\"usd_goal_real\"] < 3850))]))/(len(df[(df[\"state\"]==\"successful\")]))"
   ]
  },
  {
   "cell_type": "code",
   "execution_count": 162,
   "metadata": {},
   "outputs": [
    {
     "data": {
      "text/plain": [
       "0.6793710476841566"
      ]
     },
     "execution_count": 162,
     "metadata": {},
     "output_type": "execute_result"
    }
   ],
   "source": [
    "#Given you were successful, what is the probability that your goal was between 0 and 7500\n",
    "(len(df[(df[\"state\"]==\"successful\") & ((df[\"usd_goal_real\"] >=0) & (df[\"usd_goal_real\"] < 7500))]))/(len(df[(df[\"state\"]==\"successful\")]))"
   ]
  },
  {
   "cell_type": "code",
   "execution_count": 138,
   "metadata": {},
   "outputs": [
    {
     "data": {
      "text/plain": [
       "0.18766022902068022"
      ]
     },
     "execution_count": 138,
     "metadata": {},
     "output_type": "execute_result"
    }
   ],
   "source": [
    "#Given you were successful, what is the probability that your goal was between 5000 and 10000\n",
    "(len(df[(df[\"state\"]==\"successful\") & ((df[\"usd_goal_real\"] >=5000) & (df[\"usd_goal_real\"] < 10000))]))/(len(df[(df[\"state\"]==\"successful\")]))"
   ]
  },
  {
   "cell_type": "code",
   "execution_count": 140,
   "metadata": {},
   "outputs": [
    {
     "data": {
      "text/plain": [
       "0.09071098957443172"
      ]
     },
     "execution_count": 140,
     "metadata": {},
     "output_type": "execute_result"
    }
   ],
   "source": [
    "#Given you were successful, what is the probability that your goal was between 10000 and 15000\n",
    "(len(df[(df[\"state\"]==\"successful\") & ((df[\"usd_goal_real\"] >=10000) & (df[\"usd_goal_real\"] < 15000))]))/(len(df[(df[\"state\"]==\"successful\")]))"
   ]
  },
  {
   "cell_type": "code",
   "execution_count": 141,
   "metadata": {},
   "outputs": [
    {
     "data": {
      "text/plain": [
       "0.049735088019142025"
      ]
     },
     "execution_count": 141,
     "metadata": {},
     "output_type": "execute_result"
    }
   ],
   "source": [
    "#Given you were successfule, what is the probability that your goal was between 15000 and 20000\n",
    "(len(df[(df[\"state\"]==\"successful\") & ((df[\"usd_goal_real\"] >=15000) & (df[\"usd_goal_real\"] < 20000))]))/(len(df[(df[\"state\"]==\"successful\")]))"
   ]
  },
  {
   "cell_type": "code",
   "execution_count": 139,
   "metadata": {},
   "outputs": [
    {
     "data": {
      "text/plain": [
       "0.12087677320116219"
      ]
     },
     "execution_count": 139,
     "metadata": {},
     "output_type": "execute_result"
    }
   ],
   "source": [
    "#Given you were successfule, what is the probability that your goal was 20000 or above\n",
    "(len(df[(df[\"state\"]==\"successful\") & (df[\"usd_goal_real\"] >= 20000)]))/(len(df[(df[\"state\"]==\"successful\")]))"
   ]
  },
  {
   "cell_type": "code",
   "execution_count": 14,
   "metadata": {},
   "outputs": [
    {
     "data": {
      "text/plain": [
       "104.75928892957961"
      ]
     },
     "execution_count": 14,
     "metadata": {},
     "output_type": "execute_result"
    }
   ],
   "source": [
    "df['backers'].mean()"
   ]
  },
  {
   "cell_type": "code",
   "execution_count": 17,
   "metadata": {},
   "outputs": [
    {
     "data": {
      "text/plain": [
       "state\n",
       "canceled       23.491811\n",
       "failed         15.803712\n",
       "live           77.953191\n",
       "successful    261.185225\n",
       "suspended      66.579937\n",
       "undefined       0.000000\n",
       "Name: backers, dtype: float64"
      ]
     },
     "execution_count": 17,
     "metadata": {},
     "output_type": "execute_result"
    }
   ],
   "source": [
    "df.groupby('state')['backers'].mean()"
   ]
  },
  {
   "cell_type": "code",
   "execution_count": 20,
   "metadata": {},
   "outputs": [
    {
     "data": {
      "text/plain": [
       "state\n",
       "canceled       3\n",
       "failed         3\n",
       "live           5\n",
       "successful    71\n",
       "suspended      2\n",
       "undefined      0\n",
       "Name: backers, dtype: int64"
      ]
     },
     "execution_count": 20,
     "metadata": {},
     "output_type": "execute_result"
    }
   ],
   "source": [
    "df.groupby('state')['backers'].median()"
   ]
  },
  {
   "cell_type": "code",
   "execution_count": 26,
   "metadata": {},
   "outputs": [
    {
     "data": {
      "text/plain": [
       "state\n",
       "canceled       2121\n",
       "failed         5338\n",
       "live           5524\n",
       "successful    85581\n",
       "suspended      2109\n",
       "undefined         0\n",
       "Name: backers, dtype: int64"
      ]
     },
     "execution_count": 26,
     "metadata": {},
     "output_type": "execute_result"
    }
   ],
   "source": [
    "df.groupby('state')['backers'].max()"
   ]
  },
  {
   "cell_type": "code",
   "execution_count": 27,
   "metadata": {},
   "outputs": [
    {
     "data": {
      "text/plain": [
       "state\n",
       "canceled      0\n",
       "failed        0\n",
       "live          0\n",
       "successful    0\n",
       "suspended     0\n",
       "undefined     0\n",
       "Name: backers, dtype: int64"
      ]
     },
     "execution_count": 27,
     "metadata": {},
     "output_type": "execute_result"
    }
   ],
   "source": [
    "df.groupby('state')['backers'].min()"
   ]
  },
  {
   "cell_type": "code",
   "execution_count": 28,
   "metadata": {},
   "outputs": [
    {
     "data": {
      "text/plain": [
       "state\n",
       "canceled       0.0\n",
       "failed         1.0\n",
       "live           1.0\n",
       "successful    33.0\n",
       "suspended      0.0\n",
       "undefined      0.0\n",
       "Name: backers, dtype: float64"
      ]
     },
     "execution_count": 28,
     "metadata": {},
     "output_type": "execute_result"
    }
   ],
   "source": [
    "df.groupby('state')['backers'].quantile(.25)"
   ]
  },
  {
   "cell_type": "code",
   "execution_count": 77,
   "metadata": {},
   "outputs": [
    {
     "data": {
      "text/plain": [
       "state\n",
       "canceled       15.00\n",
       "failed         12.00\n",
       "live           21.75\n",
       "successful    167.00\n",
       "suspended      25.50\n",
       "undefined       0.00\n",
       "Name: backers, dtype: float64"
      ]
     },
     "execution_count": 77,
     "metadata": {},
     "output_type": "execute_result"
    }
   ],
   "source": [
    "df.groupby('state')['backers'].quantile(.75)"
   ]
  },
  {
   "cell_type": "code",
   "execution_count": 73,
   "metadata": {},
   "outputs": [
    {
     "data": {
      "text/plain": [
       "0.2479490685352931"
      ]
     },
     "execution_count": 73,
     "metadata": {},
     "output_type": "execute_result"
    }
   ],
   "source": [
    "#Given you were successful, what is the probability that your number of backers was between 0 and 33\n",
    "(len(df[(df[\"state\"]==\"successful\") & ((df[\"backers\"] >=0) & (df[\"backers\"] < 33))]))/(len(df[(df[\"state\"]==\"successful\")]))"
   ]
  },
  {
   "cell_type": "code",
   "execution_count": 74,
   "metadata": {},
   "outputs": [
    {
     "data": {
      "text/plain": [
       "0.4985045291403179"
      ]
     },
     "execution_count": 74,
     "metadata": {},
     "output_type": "execute_result"
    }
   ],
   "source": [
    "(len(df[(df[\"state\"]==\"successful\") & ((df[\"backers\"] >=0) & (df[\"backers\"] < 71))]))/(len(df[(df[\"state\"]==\"successful\")]))"
   ]
  },
  {
   "cell_type": "code",
   "execution_count": 91,
   "metadata": {},
   "outputs": [
    {
     "data": {
      "text/plain": [
       "0.18498794422895481"
      ]
     },
     "execution_count": 91,
     "metadata": {},
     "output_type": "execute_result"
    }
   ],
   "source": [
    "#Given your number of backers was between 0 and 50, what is the probability you were successful\n",
    "(len(df[(df[\"state\"]==\"successful\") & ((df[\"backers\"] < 50) & (df[\"backers\"] >= 0))]))/(len(df[(df[\"backers\"] < 50)&(df[\"backers\"] >= 0)]))"
   ]
  },
  {
   "cell_type": "code",
   "execution_count": 79,
   "metadata": {},
   "outputs": [
    {
     "data": {
      "text/plain": [
       "0.7283322170127261"
      ]
     },
     "execution_count": 79,
     "metadata": {},
     "output_type": "execute_result"
    }
   ],
   "source": [
    "#Given your number of backers was between 50 and 100, what is the probability you were successful\n",
    "(len(df[(df[\"state\"]==\"successful\") & ((df[\"backers\"] < 100) & (df[\"backers\"] >= 50))]))/(len(df[(df[\"backers\"] <= 100)&(df[\"backers\"] >= 50)]))"
   ]
  },
  {
   "cell_type": "code",
   "execution_count": 88,
   "metadata": {},
   "outputs": [
    {
     "data": {
      "text/plain": [
       "0.889010989010989"
      ]
     },
     "execution_count": 88,
     "metadata": {},
     "output_type": "execute_result"
    }
   ],
   "source": [
    "#(len(df[(df[\"state\"]==\"successful\") & ((df[\"backers\"] < 25) & (df[\"backers\"] >= 0))]))/(len(df[(df[\"backers\"] < 25)&(df[\"backers\"] >= 0)]))\n",
    "#(len(df[(df[\"state\"]==\"successful\") & ((df[\"backers\"] < 50) & (df[\"backers\"] >= 25))]))/(len(df[(df[\"backers\"] < 50)&(df[\"backers\"] >= 25)]))\n",
    "#(len(df[(df[\"state\"]==\"successful\") & ((df[\"backers\"] < 75) & (df[\"backers\"] >= 50))]))/(len(df[(df[\"backers\"] < 75)&(df[\"backers\"] >= 50)]))\n",
    "#(len(df[(df[\"state\"]==\"successful\") & ((df[\"backers\"] < 100) & (df[\"backers\"] >= 75))]))/(len(df[(df[\"backers\"] < 100)&(df[\"backers\"] >= 75)]))\n",
    "#(len(df[(df[\"state\"]==\"successful\") & ((df[\"backers\"] < 150) & (df[\"backers\"] >= 100))]))/(len(df[(df[\"backers\"] < 150)&(df[\"backers\"] >= 100)]))\n",
    "#(len(df[(df[\"state\"]==\"successful\") & ((df[\"backers\"] < 200) & (df[\"backers\"] >= 150))]))/(len(df[(df[\"backers\"] < 200)&(df[\"backers\"] >= 150)]))\n",
    "(len(df[(df[\"state\"]==\"successful\") & ((df[\"backers\"] < 400) & (df[\"backers\"] >= 200))]))/(len(df[(df[\"backers\"] < 400)&(df[\"backers\"] >= 200)]))"
   ]
  },
  {
   "cell_type": "code",
   "execution_count": 100,
   "metadata": {},
   "outputs": [
    {
     "data": {
      "text/plain": [
       "0.5215"
      ]
     },
     "execution_count": 100,
     "metadata": {},
     "output_type": "execute_result"
    }
   ],
   "source": [
    "(len(df[(df[\"state\"]==\"successful\") & ((df[\"backers\"] < 30) & (df[\"backers\"] >= 25))]))/(len(df[(df[\"backers\"] < 30)&(df[\"backers\"] >= 25)]))\n",
    "#(len(df[(df[\"state\"]==\"successful\") & ((df[\"backers\"] < 35) & (df[\"backers\"] >= 30))]))/(len(df[(df[\"backers\"] < 35)&(df[\"backers\"] >= 30)]))\n",
    "#(len(df[(df[\"state\"]==\"successful\") & ((df[\"backers\"] < 40) & (df[\"backers\"] >= 35))]))/(len(df[(df[\"backers\"] < 40)&(df[\"backers\"] >= 35)]))\n",
    "#(len(df[(df[\"state\"]==\"successful\") & ((df[\"backers\"] < 50) & (df[\"backers\"] >= 40))]))/(len(df[(df[\"backers\"] < 50)&(df[\"backers\"] >= 40)]))"
   ]
  },
  {
   "cell_type": "code",
   "execution_count": 103,
   "metadata": {},
   "outputs": [
    {
     "data": {
      "text/plain": [
       "0.7510806495580046"
      ]
     },
     "execution_count": 103,
     "metadata": {},
     "output_type": "execute_result"
    }
   ],
   "source": [
    "(len(df[(df[\"state\"]==\"successful\") & ((df[\"backers\"] >= 25))]))/(len(df[(df[\"backers\"] >= 25)]))\n",
    "#(len(df[(df[\"state\"]==\"successful\") & ((df[\"backers\"] < 25))]))/(len(df[(df[\"backers\"] < 25)]))"
   ]
  },
  {
   "cell_type": "code",
   "execution_count": null,
   "metadata": {},
   "outputs": [],
   "source": []
  }
 ],
 "metadata": {
  "kernelspec": {
   "display_name": "Python 3.6",
   "language": "python",
   "name": "python36"
  },
  "language_info": {
   "codemirror_mode": {
    "name": "ipython",
    "version": 3
   },
   "file_extension": ".py",
   "mimetype": "text/x-python",
   "name": "python",
   "nbconvert_exporter": "python",
   "pygments_lexer": "ipython3",
   "version": "3.6.3"
  }
 },
 "nbformat": 4,
 "nbformat_minor": 2
}
